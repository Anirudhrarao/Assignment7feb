{
 "cells": [
  {
   "cell_type": "markdown",
   "id": "78c84975",
   "metadata": {},
   "source": [
    "### Solution (1)"
   ]
  },
  {
   "cell_type": "code",
   "execution_count": 48,
   "id": "7426f6e5",
   "metadata": {},
   "outputs": [],
   "source": [
    "def passChecker():\n",
    "    specialSymbol = ['@','$','&','#','*']\n",
    "    password = input(\"Enter Password:\")\n",
    "    try:\n",
    "        if len(password) < 10:\n",
    "            print('Password length should be 10')\n",
    "    finally:\n",
    "        upper_case = []\n",
    "        lower_case = []\n",
    "        special_symbol = []\n",
    "        for ch in password:\n",
    "            if ch.isupper():\n",
    "                upper_case.append(ch)\n",
    "            if ch.islower():\n",
    "                lower_case.append(ch)\n",
    "        for char in specialSymbol:\n",
    "            for ch in password:\n",
    "                if ch == char:\n",
    "                    special_symbol.append(ch)\n",
    "        if (len(upper_case) >= 2) and (len(lower_case) >= 2) and (len(special_symbol) >=3 ):\n",
    "            print('Valid Password')\n",
    "        else:\n",
    "            print('''\n",
    "                    1. The Password should contain at least two uppercase letters and \n",
    "                    at least two lowercase letters.\n",
    "                    2. The Password should contain at least a number and three special characters.\n",
    "                    3. The length of the password should be 10 characters long.''')\n",
    "                \n",
    "   "
   ]
  },
  {
   "cell_type": "code",
   "execution_count": 29,
   "id": "a343b339",
   "metadata": {},
   "outputs": [
    {
     "name": "stdout",
     "output_type": "stream",
     "text": [
      "Enter Password:RAoo@#$121123\n",
      "Valid Password\n"
     ]
    }
   ],
   "source": [
    "passChecker()"
   ]
  },
  {
   "cell_type": "markdown",
   "id": "8c736bdb",
   "metadata": {},
   "source": [
    "### Solution (2)"
   ]
  },
  {
   "cell_type": "code",
   "execution_count": 30,
   "id": "7b8dcf63",
   "metadata": {},
   "outputs": [],
   "source": [
    "# Check if the string starts with a particular letter\n",
    "op = lambda x:x.startswith('a')"
   ]
  },
  {
   "cell_type": "code",
   "execution_count": 31,
   "id": "815d79a6",
   "metadata": {},
   "outputs": [
    {
     "data": {
      "text/plain": [
       "True"
      ]
     },
     "execution_count": 31,
     "metadata": {},
     "output_type": "execute_result"
    }
   ],
   "source": [
    "op('anirudhra')"
   ]
  },
  {
   "cell_type": "code",
   "execution_count": 32,
   "id": "26b040ca",
   "metadata": {},
   "outputs": [],
   "source": [
    "# Check if the string is numeric\n",
    "op = lambda x:x.isdigit()"
   ]
  },
  {
   "cell_type": "code",
   "execution_count": 35,
   "id": "b33d627f",
   "metadata": {},
   "outputs": [
    {
     "data": {
      "text/plain": [
       "True"
      ]
     },
     "execution_count": 35,
     "metadata": {},
     "output_type": "execute_result"
    }
   ],
   "source": [
    "op('12132')"
   ]
  },
  {
   "cell_type": "code",
   "execution_count": 36,
   "id": "86e7e6c2",
   "metadata": {},
   "outputs": [],
   "source": [
    "# Sort a list of tuples having fruit names and their quantity. [(\"mango\",99),(\"orange\",80), (\"grapes\", 1000)]\n",
    "ls =  [(\"mango\",99),(\"orange\",80), (\"grapes\", 1000)]"
   ]
  },
  {
   "cell_type": "code",
   "execution_count": 37,
   "id": "a4d4c684",
   "metadata": {},
   "outputs": [],
   "source": [
    "ls.sort(key=lambda x:x[1])"
   ]
  },
  {
   "cell_type": "code",
   "execution_count": 38,
   "id": "c906db5c",
   "metadata": {},
   "outputs": [
    {
     "data": {
      "text/plain": [
       "[('orange', 80), ('mango', 99), ('grapes', 1000)]"
      ]
     },
     "execution_count": 38,
     "metadata": {},
     "output_type": "execute_result"
    }
   ],
   "source": [
    "ls"
   ]
  },
  {
   "cell_type": "code",
   "execution_count": 47,
   "id": "50a2af4d",
   "metadata": {},
   "outputs": [
    {
     "data": {
      "text/plain": [
       "[1, 4, 9, 16, 25, 36, 49, 64, 81, 100]"
      ]
     },
     "execution_count": 47,
     "metadata": {},
     "output_type": "execute_result"
    }
   ],
   "source": [
    "#  Find the squares of numbers from 1 to 10\n",
    "[ x**2 for x in range(1,11) ]"
   ]
  },
  {
   "cell_type": "code",
   "execution_count": 55,
   "id": "abef816a",
   "metadata": {},
   "outputs": [
    {
     "data": {
      "text/plain": [
       "[0.3333333333333333,\n",
       " 0.6666666666666666,\n",
       " 1.0,\n",
       " 1.3333333333333333,\n",
       " 1.6666666666666665,\n",
       " 2.0,\n",
       " 2.333333333333333,\n",
       " 2.6666666666666665,\n",
       " 3.0,\n",
       " 3.333333333333333]"
      ]
     },
     "execution_count": 55,
     "metadata": {},
     "output_type": "execute_result"
    }
   ],
   "source": [
    "# Find the cube root of numbers from 1 to 10\n",
    "list(map(lambda x:x*(1/3),range(1,11)))"
   ]
  },
  {
   "cell_type": "code",
   "execution_count": 57,
   "id": "63e26d0a",
   "metadata": {},
   "outputs": [],
   "source": [
    "#  Check if a given number is even\n",
    "op = lambda x:print('even') if x%2==0 else print('odd')\n"
   ]
  },
  {
   "cell_type": "code",
   "execution_count": 58,
   "id": "c50c4b49",
   "metadata": {},
   "outputs": [
    {
     "name": "stdout",
     "output_type": "stream",
     "text": [
      "even\n"
     ]
    }
   ],
   "source": [
    "op(2)"
   ]
  },
  {
   "cell_type": "code",
   "execution_count": 59,
   "id": "0e65165d",
   "metadata": {},
   "outputs": [
    {
     "name": "stdout",
     "output_type": "stream",
     "text": [
      "odd\n"
     ]
    }
   ],
   "source": [
    "op(3)"
   ]
  },
  {
   "cell_type": "code",
   "execution_count": 61,
   "id": "a4ebb573",
   "metadata": {},
   "outputs": [],
   "source": [
    "#  Filter odd numbers from the given list.\n",
    "ls = [1,2,3,4,5,6,7,8,9,10]"
   ]
  },
  {
   "cell_type": "code",
   "execution_count": 62,
   "id": "6eecc73c",
   "metadata": {},
   "outputs": [
    {
     "data": {
      "text/plain": [
       "[1, 3, 5, 7, 9]"
      ]
     },
     "execution_count": 62,
     "metadata": {},
     "output_type": "execute_result"
    }
   ],
   "source": [
    "list(filter(lambda x:x%2!=0,ls))"
   ]
  },
  {
   "cell_type": "code",
   "execution_count": 71,
   "id": "4ed634bd",
   "metadata": {},
   "outputs": [],
   "source": [
    "# Sort a list of integers into positive and negative integers lists.\n",
    "ls = [1,2,3,4,5,6,-1,-2,-3,-4,-5,0]"
   ]
  },
  {
   "cell_type": "code",
   "execution_count": 72,
   "id": "a70dfa7c",
   "metadata": {},
   "outputs": [
    {
     "data": {
      "text/plain": [
       "[-5, -4, -3, -2, -1, 0, 1, 2, 3, 4, 5, 6]"
      ]
     },
     "execution_count": 72,
     "metadata": {},
     "output_type": "execute_result"
    }
   ],
   "source": [
    "ls.sort()\n",
    "ls"
   ]
  },
  {
   "cell_type": "code",
   "execution_count": 73,
   "id": "e77ad83b",
   "metadata": {},
   "outputs": [
    {
     "data": {
      "text/plain": [
       "[0, 1, 2, 3, 4, 5, 6]"
      ]
     },
     "execution_count": 73,
     "metadata": {},
     "output_type": "execute_result"
    }
   ],
   "source": [
    "list(filter(lambda x:x>=0,ls))"
   ]
  },
  {
   "cell_type": "code",
   "execution_count": 74,
   "id": "83514ddf",
   "metadata": {},
   "outputs": [
    {
     "data": {
      "text/plain": [
       "[-5, -4, -3, -2, -1]"
      ]
     },
     "execution_count": 74,
     "metadata": {},
     "output_type": "execute_result"
    }
   ],
   "source": [
    "list(filter(lambda x: x<0,ls))"
   ]
  },
  {
   "cell_type": "code",
   "execution_count": null,
   "id": "1d7cc048",
   "metadata": {},
   "outputs": [],
   "source": []
  }
 ],
 "metadata": {
  "kernelspec": {
   "display_name": "Python 3 (ipykernel)",
   "language": "python",
   "name": "python3"
  },
  "language_info": {
   "codemirror_mode": {
    "name": "ipython",
    "version": 3
   },
   "file_extension": ".py",
   "mimetype": "text/x-python",
   "name": "python",
   "nbconvert_exporter": "python",
   "pygments_lexer": "ipython3",
   "version": "3.11.1"
  }
 },
 "nbformat": 4,
 "nbformat_minor": 5
}
